{
 "cells": [
  {
   "cell_type": "code",
   "execution_count": 9,
   "metadata": {},
   "outputs": [],
   "source": [
    "import pandas as pd"
   ]
  },
  {
   "cell_type": "code",
   "execution_count": 10,
   "metadata": {},
   "outputs": [],
   "source": [
    "df = pd.read_csv(\"tested.csv\")"
   ]
  },
  {
   "cell_type": "code",
   "execution_count": 11,
   "metadata": {},
   "outputs": [
    {
     "name": "stdout",
     "output_type": "stream",
     "text": [
      "   PassengerId  Survived  Pclass  \\\n",
      "0          892         0       3   \n",
      "1          893         1       3   \n",
      "2          894         0       2   \n",
      "3          895         0       3   \n",
      "4          896         1       3   \n",
      "\n",
      "                                           Name     Sex   Age  SibSp  Parch  \\\n",
      "0                              Kelly, Mr. James    male  34.5      0      0   \n",
      "1              Wilkes, Mrs. James (Ellen Needs)  female  47.0      1      0   \n",
      "2                     Myles, Mr. Thomas Francis    male  62.0      0      0   \n",
      "3                              Wirz, Mr. Albert    male  27.0      0      0   \n",
      "4  Hirvonen, Mrs. Alexander (Helga E Lindqvist)  female  22.0      1      1   \n",
      "\n",
      "    Ticket     Fare Cabin Embarked  \n",
      "0   330911   7.8292   NaN        Q  \n",
      "1   363272   7.0000   NaN        S  \n",
      "2   240276   9.6875   NaN        Q  \n",
      "3   315154   8.6625   NaN        S  \n",
      "4  3101298  12.2875   NaN        S  \n"
     ]
    }
   ],
   "source": [
    "print(df.head())"
   ]
  },
  {
   "cell_type": "code",
   "execution_count": 12,
   "metadata": {},
   "outputs": [],
   "source": [
    "df.set_index(['Pclass', 'Sex'], inplace=True)"
   ]
  },
  {
   "cell_type": "code",
   "execution_count": 13,
   "metadata": {},
   "outputs": [
    {
     "name": "stdout",
     "output_type": "stream",
     "text": [
      "             PassengerId  Survived                          Name   Age  SibSp  \\\n",
      "Pclass Sex                                                                      \n",
      "3      male          892         0              Kelly, Mr. James  34.5      0   \n",
      "       male          895         0              Wirz, Mr. Albert  27.0      0   \n",
      "       male          897         0    Svensson, Mr. Johan Cervin  14.0      0   \n",
      "       male          901         0       Davies, Mr. John Samuel  21.0      2   \n",
      "       male          902         0              Ilieff, Mr. Ylio   NaN      0   \n",
      "...                  ...       ...                           ...   ...    ...   \n",
      "       male         1291         0      Conlon, Mr. Thomas Henry  31.0      0   \n",
      "       male         1305         0            Spector, Mr. Woolf   NaN      0   \n",
      "       male         1307         0  Saether, Mr. Simon Sivertsen  38.5      0   \n",
      "       male         1308         0           Ware, Mr. Frederick   NaN      0   \n",
      "       male         1309         0      Peter, Master. Michael J   NaN      1   \n",
      "\n",
      "             Parch              Ticket     Fare Cabin Embarked  \n",
      "Pclass Sex                                                      \n",
      "3      male      0              330911   7.8292   NaN        Q  \n",
      "       male      0              315154   8.6625   NaN        S  \n",
      "       male      0                7538   9.2250   NaN        S  \n",
      "       male      0           A/4 48871  24.1500   NaN        S  \n",
      "       male      0              349220   7.8958   NaN        S  \n",
      "...            ...                 ...      ...   ...      ...  \n",
      "       male      0               21332   7.7333   NaN        Q  \n",
      "       male      0           A.5. 3236   8.0500   NaN        S  \n",
      "       male      0  SOTON/O.Q. 3101262   7.2500   NaN        S  \n",
      "       male      0              359309   8.0500   NaN        S  \n",
      "       male      1                2668  22.3583   NaN        C  \n",
      "\n",
      "[146 rows x 10 columns]\n"
     ]
    },
    {
     "name": "stderr",
     "output_type": "stream",
     "text": [
      "C:\\Users\\Shubham\\AppData\\Local\\Temp\\ipykernel_21508\\3102430737.py:1: PerformanceWarning: indexing past lexsort depth may impact performance.\n",
      "  print(df.loc[(3, 'male')])\n"
     ]
    }
   ],
   "source": [
    "print(df.loc[(3, 'male')])"
   ]
  },
  {
   "cell_type": "code",
   "execution_count": 14,
   "metadata": {},
   "outputs": [],
   "source": [
    "df.reset_index(inplace=True)"
   ]
  },
  {
   "cell_type": "code",
   "execution_count": 15,
   "metadata": {},
   "outputs": [],
   "source": [
    "df.to_csv('modified_tested.csv', index=False)"
   ]
  }
 ],
 "metadata": {
  "kernelspec": {
   "display_name": "Python 3",
   "language": "python",
   "name": "python3"
  },
  "language_info": {
   "codemirror_mode": {
    "name": "ipython",
    "version": 3
   },
   "file_extension": ".py",
   "mimetype": "text/x-python",
   "name": "python",
   "nbconvert_exporter": "python",
   "pygments_lexer": "ipython3",
   "version": "3.12.3"
  }
 },
 "nbformat": 4,
 "nbformat_minor": 2
}
